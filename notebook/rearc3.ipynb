{
 "cells": [
  {
   "cell_type": "code",
   "execution_count": 10,
   "id": "7bc224ad",
   "metadata": {},
   "outputs": [],
   "source": [
    "import pandas as pd\n",
    "import json"
   ]
  },
  {
   "cell_type": "markdown",
   "id": "aa4d61f9",
   "metadata": {},
   "source": [
    "## First import the necessary libraries and load the CSV and JSON files into dataframes."
   ]
  },
  {
   "cell_type": "code",
   "execution_count": 11,
   "id": "1dc6fa52",
   "metadata": {},
   "outputs": [],
   "source": [
    "# Load CSV file into Pandas DataFrame\n",
    "csv_df = pd.read_csv('data/pr.data.0.Current', sep='\\t')\n",
    "#csv_df.head"
   ]
  },
  {
   "cell_type": "code",
   "execution_count": 12,
   "id": "f7de0d25",
   "metadata": {},
   "outputs": [],
   "source": [
    "# Cleanup - Trim whitespaces in column names and string values in csv dataframe\n",
    "csv_df.columns = csv_df.columns.str.strip()\n",
    "df_obj = csv_df.select_dtypes(['object'])\n",
    "csv_df[df_obj.columns] = df_obj.apply(lambda x: x.str.strip())\n",
    "#csv_df.head"
   ]
  },
  {
   "cell_type": "code",
   "execution_count": 13,
   "id": "c159be2b",
   "metadata": {},
   "outputs": [],
   "source": [
    "# Load JSON file into Pandas DataFrame\n",
    "with open('data/population.json', 'r') as json_file:\n",
    "    json_data = json.load(json_file)\n",
    " \n",
    "population_df = pd.DataFrame(json_data['data'])\n",
    "#population_df.head"
   ]
  },
  {
   "cell_type": "code",
   "execution_count": 14,
   "id": "cd26c64f",
   "metadata": {},
   "outputs": [],
   "source": [
    "# Cleanup -  Filter the population data for the years [2013, 2018]\n",
    "filtered_population_df = population_df[(population_df['ID Year'] >= 2013) & (population_df['ID Year'] <= 2018)]\n",
    "#filtered_population_df.head"
   ]
  },
  {
   "cell_type": "markdown",
   "id": "52f7a9c5",
   "metadata": {},
   "source": [
    "## 1. Calculate mean and standard deviation of population"
   ]
  },
  {
   "cell_type": "code",
   "execution_count": 15,
   "id": "47da0715",
   "metadata": {},
   "outputs": [
    {
     "name": "stdout",
     "output_type": "stream",
     "text": [
      "Mean Population (2013-2018): 317437383.0\n",
      "Standard Deviation Population (2013-2018): 4257089.5415293295\n"
     ]
    }
   ],
   "source": [
    "mean_population = filtered_population_df['Population'].mean()\n",
    "std_dev_population = filtered_population_df['Population'].std()\n",
    "\n",
    "print(f\"Mean Population (2013-2018): {mean_population}\")\n",
    "print(f\"Standard Deviation Population (2013-2018): {std_dev_population}\")"
   ]
  },
  {
   "cell_type": "markdown",
   "id": "c03dbbd1",
   "metadata": {},
   "source": [
    "## 2. Group by series_id and year, calculate the sum of values\n"
   ]
  },
  {
   "cell_type": "code",
   "execution_count": 16,
   "id": "c7dbcce8",
   "metadata": {},
   "outputs": [
    {
     "name": "stdout",
     "output_type": "stream",
     "text": [
      "Best Year for Each Series:\n",
      "        series_id  year    value\n",
      "27    PRS30006011  2022   21.400\n",
      "56    PRS30006012  2022   17.600\n",
      "61    PRS30006013  1998  733.348\n",
      "102   PRS30006021  2010   17.700\n",
      "131   PRS30006022  2010   12.500\n",
      "...           ...   ...      ...\n",
      "7950  PRS88003192  2002  285.200\n",
      "7999  PRS88003193  2022  701.185\n",
      "8028  PRS88003201  2022   46.600\n",
      "8057  PRS88003202  2022   39.700\n",
      "8086  PRS88003203  2022  634.534\n",
      "\n",
      "[282 rows x 3 columns]\n"
     ]
    }
   ],
   "source": [
    "#2 Group by series_id and year, calculate the sum of values\n",
    "\n",
    "# Filter columns in the time-series DataFrame\n",
    "time_series_df = csv_df[['series_id', 'year', 'period', 'value']]\n",
    "\n",
    "#Group by series_id and year, calculate the sum of values\n",
    "best_year_df = time_series_df.groupby(['series_id', 'year'])['value'].sum().reset_index()\n",
    "\n",
    "# Find the year with the maximum sum of values for each series_id\n",
    "best_year_df = best_year_df.loc[best_year_df.groupby('series_id')['value'].idxmax()]\n",
    "\n",
    "print(\"Best Year for Each Series:\")\n",
    "print(best_year_df)"
   ]
  },
  {
   "cell_type": "markdown",
   "id": "bc2285a3",
   "metadata": {},
   "source": [
    "## 3. Filter time-series data for series_id = PRS30006032 and period = Q01\n"
   ]
  },
  {
   "cell_type": "code",
   "execution_count": 17,
   "id": "33367176",
   "metadata": {},
   "outputs": [
    {
     "name": "stdout",
     "output_type": "stream",
     "text": [
      "Report for series_id = PRS30006032 and period = Q01:\n",
      "      series_id  year period  value   Population\n",
      "0   PRS30006032  1995    Q01    0.0          NaN\n",
      "1   PRS30006032  1996    Q01   -4.4          NaN\n",
      "2   PRS30006032  1997    Q01    2.7          NaN\n",
      "3   PRS30006032  1998    Q01    1.0          NaN\n",
      "4   PRS30006032  1999    Q01   -4.1          NaN\n",
      "5   PRS30006032  2000    Q01    0.1          NaN\n",
      "6   PRS30006032  2001    Q01   -6.0          NaN\n",
      "7   PRS30006032  2002    Q01   -7.0          NaN\n",
      "8   PRS30006032  2003    Q01   -5.7          NaN\n",
      "9   PRS30006032  2004    Q01    2.4          NaN\n",
      "10  PRS30006032  2005    Q01   -1.1          NaN\n",
      "11  PRS30006032  2006    Q01    2.8          NaN\n",
      "12  PRS30006032  2007    Q01   -0.3          NaN\n",
      "13  PRS30006032  2008    Q01   -3.4          NaN\n",
      "14  PRS30006032  2009    Q01  -20.7          NaN\n",
      "15  PRS30006032  2010    Q01    3.5          NaN\n",
      "16  PRS30006032  2011    Q01    1.6          NaN\n",
      "17  PRS30006032  2012    Q01    3.0          NaN\n",
      "18  PRS30006032  2013    Q01    1.2  311536594.0\n",
      "19  PRS30006032  2014    Q01    0.0  314107084.0\n",
      "20  PRS30006032  2015    Q01   -1.7  316515021.0\n",
      "21  PRS30006032  2016    Q01   -1.8  318558162.0\n",
      "22  PRS30006032  2017    Q01    1.0  321004407.0\n",
      "23  PRS30006032  2018    Q01   -0.1  322903030.0\n",
      "24  PRS30006032  2019    Q01   -2.4  324697795.0\n",
      "25  PRS30006032  2020    Q01   -6.5  326569308.0\n",
      "26  PRS30006032  2021    Q01    1.3          NaN\n",
      "27  PRS30006032  2022    Q01    7.3          NaN\n",
      "28  PRS30006032  2023    Q01    1.5          NaN\n"
     ]
    }
   ],
   "source": [
    "csv_df_new = csv_df[(csv_df['series_id'] == 'PRS30006032') & (csv_df['period'] == 'Q01')]\n",
    "#csv_df_new.head\n",
    "\n",
    "# Merge with population data for the same year\n",
    "report_df = pd.merge(csv_df_new, population_df, left_on='year', right_on='ID Year', how='left')\n",
    "print(\"Report for series_id = PRS30006032 and period = Q01:\")\n",
    "print(report_df[['series_id', 'year', 'period', 'value', 'Population']])"
   ]
  }
 ],
 "metadata": {
  "kernelspec": {
   "display_name": "Python 3 (ipykernel)",
   "language": "python",
   "name": "python3"
  },
  "language_info": {
   "codemirror_mode": {
    "name": "ipython",
    "version": 3
   },
   "file_extension": ".py",
   "mimetype": "text/x-python",
   "name": "python",
   "nbconvert_exporter": "python",
   "pygments_lexer": "ipython3",
   "version": "3.11.4"
  }
 },
 "nbformat": 4,
 "nbformat_minor": 5
}
